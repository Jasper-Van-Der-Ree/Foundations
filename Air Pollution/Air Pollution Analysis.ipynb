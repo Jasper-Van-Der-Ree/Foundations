{
 "cells": [
  {
   "cell_type": "markdown",
   "id": "d0e9948c",
   "metadata": {},
   "source": [
    "# The AIR_10 WHO Dataset contains Ambient air pollution attributable DALYs (Disability Adjusted Life Years) per 100,000 children under 5 years"
   ]
  },
  {
   "cell_type": "markdown",
   "id": "b3859407",
   "metadata": {},
   "source": [
    "Children were 5 years or younger in 2004, Data was calculated and reported in 2013"
   ]
  },
  {
   "cell_type": "markdown",
   "id": "4835653d",
   "metadata": {},
   "source": [
    "This data measures the effect of air pollution outside of the household on infants and toddlers through Disability Adjusted Life Years, which is defined by the WHO as \"(representing) the loss of the equivalent of one year of full health. DALYs for a disease or health condition are the sum of the years of life lost to due to premature mortality (YLLs) and the years lived with a disability (YLDs) due to prevalent cases of the disease or health condition in a population.\"."
   ]
  },
  {
   "cell_type": "code",
   "execution_count": null,
   "id": "f570b95c",
   "metadata": {},
   "outputs": [],
   "source": [
    "import pandas as pd"
   ]
  },
  {
   "cell_type": "code",
   "execution_count": 62,
   "id": "e61d6327",
   "metadata": {},
   "outputs": [],
   "source": [
    "AIR_10 = pd.read_json(\"AIR_10.json\")"
   ]
  },
  {
   "cell_type": "code",
   "execution_count": 63,
   "id": "d1c62ca8",
   "metadata": {},
   "outputs": [],
   "source": [
    "AIR_10_dicts = AIR_10.value"
   ]
  },
  {
   "cell_type": "code",
   "execution_count": 64,
   "id": "c80212e0",
   "metadata": {},
   "outputs": [],
   "source": [
    "df = pd.DataFrame.from_records(AIR_10_dicts)"
   ]
  },
  {
   "cell_type": "code",
   "execution_count": 65,
   "id": "d548104a",
   "metadata": {},
   "outputs": [
    {
     "data": {
      "text/html": [
       "<div>\n",
       "<style scoped>\n",
       "    .dataframe tbody tr th:only-of-type {\n",
       "        vertical-align: middle;\n",
       "    }\n",
       "\n",
       "    .dataframe tbody tr th {\n",
       "        vertical-align: top;\n",
       "    }\n",
       "\n",
       "    .dataframe thead th {\n",
       "        text-align: right;\n",
       "    }\n",
       "</style>\n",
       "<table border=\"1\" class=\"dataframe\">\n",
       "  <thead>\n",
       "    <tr style=\"text-align: right;\">\n",
       "      <th></th>\n",
       "      <th>country</th>\n",
       "      <th>value</th>\n",
       "    </tr>\n",
       "  </thead>\n",
       "  <tbody>\n",
       "    <tr>\n",
       "      <th>0</th>\n",
       "      <td>AFG</td>\n",
       "      <td>137.60</td>\n",
       "    </tr>\n",
       "    <tr>\n",
       "      <th>1</th>\n",
       "      <td>ALB</td>\n",
       "      <td>5.76</td>\n",
       "    </tr>\n",
       "    <tr>\n",
       "      <th>2</th>\n",
       "      <td>DZA</td>\n",
       "      <td>46.06</td>\n",
       "    </tr>\n",
       "    <tr>\n",
       "      <th>3</th>\n",
       "      <td>AND</td>\n",
       "      <td>1.09</td>\n",
       "    </tr>\n",
       "    <tr>\n",
       "      <th>4</th>\n",
       "      <td>AGO</td>\n",
       "      <td>1321.84</td>\n",
       "    </tr>\n",
       "    <tr>\n",
       "      <th>...</th>\n",
       "      <td>...</td>\n",
       "      <td>...</td>\n",
       "    </tr>\n",
       "    <tr>\n",
       "      <th>168</th>\n",
       "      <td>VEN</td>\n",
       "      <td>0.44</td>\n",
       "    </tr>\n",
       "    <tr>\n",
       "      <th>169</th>\n",
       "      <td>VNM</td>\n",
       "      <td>21.01</td>\n",
       "    </tr>\n",
       "    <tr>\n",
       "      <th>170</th>\n",
       "      <td>YEM</td>\n",
       "      <td>177.44</td>\n",
       "    </tr>\n",
       "    <tr>\n",
       "      <th>171</th>\n",
       "      <td>ZMB</td>\n",
       "      <td>418.14</td>\n",
       "    </tr>\n",
       "    <tr>\n",
       "      <th>172</th>\n",
       "      <td>ZWE</td>\n",
       "      <td>89.19</td>\n",
       "    </tr>\n",
       "  </tbody>\n",
       "</table>\n",
       "<p>173 rows × 2 columns</p>\n",
       "</div>"
      ],
      "text/plain": [
       "    country    value\n",
       "0       AFG   137.60\n",
       "1       ALB     5.76\n",
       "2       DZA    46.06\n",
       "3       AND     1.09\n",
       "4       AGO  1321.84\n",
       "..      ...      ...\n",
       "168     VEN     0.44\n",
       "169     VNM    21.01\n",
       "170     YEM   177.44\n",
       "171     ZMB   418.14\n",
       "172     ZWE    89.19\n",
       "\n",
       "[173 rows x 2 columns]"
      ]
     },
     "execution_count": 65,
     "metadata": {},
     "output_type": "execute_result"
    }
   ],
   "source": [
    "# Cleaning Steps\n",
    "df.drop(['IndicatorCode','SpatialDimType','TimeDimType','Dim1Type','Dim2Type','Dim3Type','DataSourceDim','Dim1','Dim2','Dim3',\\\n",
    "        'DataSourceDimType','Low','High','Comments','TimeDimensionValue','TimeDimensionBegin','TimeDimensionEnd','Value','Id',\\\n",
    "         'TimeDim','Date'], axis = 1, inplace=True)\n",
    "df.rename(columns = {'SpatialDim':'country','NumericValue':'value'}, inplace=True)\n",
    "df"
   ]
  },
  {
   "cell_type": "code",
   "execution_count": 67,
   "id": "4e75c874",
   "metadata": {},
   "outputs": [
    {
     "data": {
      "text/plain": [
       "105.2213294797688"
      ]
     },
     "execution_count": 67,
     "metadata": {},
     "output_type": "execute_result"
    }
   ],
   "source": [
    "mean_DALY = df.value.mean()\n",
    "mean_DALY"
   ]
  },
  {
   "cell_type": "code",
   "execution_count": 69,
   "id": "cc73d6c0",
   "metadata": {},
   "outputs": [
    {
     "data": {
      "text/plain": [
       "211.05531796072157"
      ]
     },
     "execution_count": 69,
     "metadata": {},
     "output_type": "execute_result"
    }
   ],
   "source": [
    "std_DALY = df.value.std()\n",
    "std_DALY"
   ]
  },
  {
   "cell_type": "code",
   "execution_count": 77,
   "id": "3cceea50",
   "metadata": {},
   "outputs": [
    {
     "data": {
      "text/html": [
       "<div>\n",
       "<style scoped>\n",
       "    .dataframe tbody tr th:only-of-type {\n",
       "        vertical-align: middle;\n",
       "    }\n",
       "\n",
       "    .dataframe tbody tr th {\n",
       "        vertical-align: top;\n",
       "    }\n",
       "\n",
       "    .dataframe thead th {\n",
       "        text-align: right;\n",
       "    }\n",
       "</style>\n",
       "<table border=\"1\" class=\"dataframe\">\n",
       "  <thead>\n",
       "    <tr style=\"text-align: right;\">\n",
       "      <th></th>\n",
       "      <th>country</th>\n",
       "      <th>value</th>\n",
       "    </tr>\n",
       "  </thead>\n",
       "  <tbody>\n",
       "    <tr>\n",
       "      <th>78</th>\n",
       "      <td>IRQ</td>\n",
       "      <td>1539.58</td>\n",
       "    </tr>\n",
       "  </tbody>\n",
       "</table>\n",
       "</div>"
      ],
      "text/plain": [
       "   country    value\n",
       "78     IRQ  1539.58"
      ]
     },
     "execution_count": 77,
     "metadata": {},
     "output_type": "execute_result"
    }
   ],
   "source": [
    "max_DALY = df[df.value == df.value.max()].dropna()\n",
    "max_DALY"
   ]
  },
  {
   "cell_type": "code",
   "execution_count": 79,
   "id": "9b7aa572",
   "metadata": {},
   "outputs": [
    {
     "data": {
      "text/html": [
       "<div>\n",
       "<style scoped>\n",
       "    .dataframe tbody tr th:only-of-type {\n",
       "        vertical-align: middle;\n",
       "    }\n",
       "\n",
       "    .dataframe tbody tr th {\n",
       "        vertical-align: top;\n",
       "    }\n",
       "\n",
       "    .dataframe thead th {\n",
       "        text-align: right;\n",
       "    }\n",
       "</style>\n",
       "<table border=\"1\" class=\"dataframe\">\n",
       "  <thead>\n",
       "    <tr style=\"text-align: right;\">\n",
       "      <th></th>\n",
       "      <th>country</th>\n",
       "      <th>value</th>\n",
       "    </tr>\n",
       "  </thead>\n",
       "  <tbody>\n",
       "    <tr>\n",
       "      <th>14</th>\n",
       "      <td>BRB</td>\n",
       "      <td>0.0</td>\n",
       "    </tr>\n",
       "    <tr>\n",
       "      <th>15</th>\n",
       "      <td>BLR</td>\n",
       "      <td>0.0</td>\n",
       "    </tr>\n",
       "    <tr>\n",
       "      <th>17</th>\n",
       "      <td>BLZ</td>\n",
       "      <td>0.0</td>\n",
       "    </tr>\n",
       "    <tr>\n",
       "      <th>19</th>\n",
       "      <td>BTN</td>\n",
       "      <td>0.0</td>\n",
       "    </tr>\n",
       "    <tr>\n",
       "      <th>54</th>\n",
       "      <td>GNQ</td>\n",
       "      <td>0.0</td>\n",
       "    </tr>\n",
       "    <tr>\n",
       "      <th>61</th>\n",
       "      <td>GAB</td>\n",
       "      <td>0.0</td>\n",
       "    </tr>\n",
       "    <tr>\n",
       "      <th>70</th>\n",
       "      <td>GUY</td>\n",
       "      <td>0.0</td>\n",
       "    </tr>\n",
       "    <tr>\n",
       "      <th>79</th>\n",
       "      <td>IRL</td>\n",
       "      <td>0.0</td>\n",
       "    </tr>\n",
       "    <tr>\n",
       "      <th>96</th>\n",
       "      <td>LUX</td>\n",
       "      <td>0.0</td>\n",
       "    </tr>\n",
       "    <tr>\n",
       "      <th>120</th>\n",
       "      <td>PNG</td>\n",
       "      <td>0.0</td>\n",
       "    </tr>\n",
       "    <tr>\n",
       "      <th>132</th>\n",
       "      <td>KNA</td>\n",
       "      <td>0.0</td>\n",
       "    </tr>\n",
       "    <tr>\n",
       "      <th>146</th>\n",
       "      <td>SUR</td>\n",
       "      <td>0.0</td>\n",
       "    </tr>\n",
       "    <tr>\n",
       "      <th>167</th>\n",
       "      <td>VUT</td>\n",
       "      <td>0.0</td>\n",
       "    </tr>\n",
       "  </tbody>\n",
       "</table>\n",
       "</div>"
      ],
      "text/plain": [
       "    country  value\n",
       "14      BRB    0.0\n",
       "15      BLR    0.0\n",
       "17      BLZ    0.0\n",
       "19      BTN    0.0\n",
       "54      GNQ    0.0\n",
       "61      GAB    0.0\n",
       "70      GUY    0.0\n",
       "79      IRL    0.0\n",
       "96      LUX    0.0\n",
       "120     PNG    0.0\n",
       "132     KNA    0.0\n",
       "146     SUR    0.0\n",
       "167     VUT    0.0"
      ]
     },
     "execution_count": 79,
     "metadata": {},
     "output_type": "execute_result"
    }
   ],
   "source": [
    "min_DALY = df[df.value == df.value.min()].dropna()\n",
    "min_DALY"
   ]
  }
 ],
 "metadata": {
  "kernelspec": {
   "display_name": "Python 3 (ipykernel)",
   "language": "python",
   "name": "python3"
  },
  "language_info": {
   "codemirror_mode": {
    "name": "ipython",
    "version": 3
   },
   "file_extension": ".py",
   "mimetype": "text/x-python",
   "name": "python",
   "nbconvert_exporter": "python",
   "pygments_lexer": "ipython3",
   "version": "3.10.2"
  }
 },
 "nbformat": 4,
 "nbformat_minor": 5
}
